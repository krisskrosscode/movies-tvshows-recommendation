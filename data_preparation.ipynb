{
 "cells": [
  {
   "cell_type": "code",
   "execution_count": 2,
   "id": "3a080a90-3689-4eaa-a72d-ff69c842b40a",
   "metadata": {},
   "outputs": [],
   "source": [
    "import pandas as pd\n",
    "import numpy as np\n",
    "import warnings \n",
    "\n",
    "warnings.filterwarnings('ignore')"
   ]
  },
  {
   "cell_type": "code",
   "execution_count": 3,
   "id": "c83935ef-a84b-4e2a-82e8-18d9c6c7273c",
   "metadata": {},
   "outputs": [],
   "source": [
    "import ast"
   ]
  },
  {
   "cell_type": "code",
   "execution_count": 4,
   "id": "cd70340e-f731-4394-ba1d-bd42ccbc93d7",
   "metadata": {},
   "outputs": [],
   "source": [
    "amazon = pd.read_csv('./amazon/titles.csv')\n",
    "hbo = pd.read_csv('./hbo/titles.csv')\n",
    "netflix = pd.read_csv('./netflix/titles.csv')\n",
    "\n",
    "df = pd.concat([amazon, hbo, netflix], axis = 0)"
   ]
  },
  {
   "cell_type": "code",
   "execution_count": 9,
   "id": "de829e6e-5c3e-4ef7-8108-1869812e7205",
   "metadata": {},
   "outputs": [
    {
     "data": {
      "text/plain": [
       "(19015, 15)"
      ]
     },
     "execution_count": 9,
     "metadata": {},
     "output_type": "execute_result"
    }
   ],
   "source": [
    "df.shape"
   ]
  },
  {
   "cell_type": "code",
   "execution_count": 11,
   "id": "dac588bc-c8c3-477f-8d5b-961a9b617087",
   "metadata": {},
   "outputs": [],
   "source": [
    "df.title.dropna(inplace=True)"
   ]
  },
  {
   "cell_type": "code",
   "execution_count": 15,
   "id": "131c9344-822f-4e02-ba7c-2aca822183e0",
   "metadata": {},
   "outputs": [],
   "source": [
    "df.drop_duplicates(inplace=True)"
   ]
  },
  {
   "cell_type": "code",
   "execution_count": 16,
   "id": "28caccfb-7340-4c8e-90c0-2ec4a2f1bfe9",
   "metadata": {},
   "outputs": [
    {
     "data": {
      "text/plain": [
       "(18980, 15)"
      ]
     },
     "execution_count": 16,
     "metadata": {},
     "output_type": "execute_result"
    }
   ],
   "source": [
    "df.shape"
   ]
  },
  {
   "cell_type": "code",
   "execution_count": 19,
   "id": "69c9f498-153a-4173-9728-5265652ecb1e",
   "metadata": {},
   "outputs": [],
   "source": [
    "df['description'].fillna('', inplace = True)"
   ]
  },
  {
   "cell_type": "code",
   "execution_count": 26,
   "id": "873a1697-f584-49e8-84d4-3d113ff5add9",
   "metadata": {},
   "outputs": [],
   "source": [
    "df['description'] = df['description'].apply(lambda x : x.split()) "
   ]
  },
  {
   "cell_type": "code",
   "execution_count": 32,
   "id": "011f1f83-2d74-46c2-bdc6-b8ee1e14a963",
   "metadata": {},
   "outputs": [
    {
     "data": {
      "text/plain": [
       "0       ['comedy', 'family', 'animation', 'action', 'f...\n",
       "1       ['action', 'drama', 'war', 'western', 'comedy'...\n",
       "2                             ['romance', 'war', 'drama']\n",
       "3                          ['comedy', 'drama', 'romance']\n",
       "4                        ['thriller', 'drama', 'romance']\n",
       "                              ...                        \n",
       "5845                                 ['romance', 'drama']\n",
       "5846                                            ['drama']\n",
       "5847                                           ['comedy']\n",
       "5848                                                   []\n",
       "5849                    ['family', 'animation', 'comedy']\n",
       "Name: genres, Length: 18980, dtype: object"
      ]
     },
     "execution_count": 32,
     "metadata": {},
     "output_type": "execute_result"
    }
   ],
   "source": [
    "df['genres']"
   ]
  },
  {
   "cell_type": "code",
   "execution_count": 36,
   "id": "d6ec0eeb-5b4d-48a0-993b-7a1d0188d6c8",
   "metadata": {},
   "outputs": [],
   "source": [
    "df['genres'] = df['genres'].apply(lambda x : ast.literal_eval(x))"
   ]
  },
  {
   "cell_type": "code",
   "execution_count": 39,
   "id": "5bbcb8ed-28c9-4d60-a274-9584fda94caf",
   "metadata": {},
   "outputs": [],
   "source": [
    "df['tags'] = df['title'].str.split() + df['description'] + df['genres']"
   ]
  },
  {
   "cell_type": "code",
   "execution_count": 41,
   "id": "e0a17552-7da7-4a9b-a2f4-ef9a835d14bc",
   "metadata": {},
   "outputs": [],
   "source": [
    "df_new = df[['title', 'tags']]"
   ]
  },
  {
   "cell_type": "code",
   "execution_count": 42,
   "id": "d1a94c16-56c2-4699-ac56-81db84d08fef",
   "metadata": {},
   "outputs": [
    {
     "data": {
      "text/html": [
       "<div>\n",
       "<style scoped>\n",
       "    .dataframe tbody tr th:only-of-type {\n",
       "        vertical-align: middle;\n",
       "    }\n",
       "\n",
       "    .dataframe tbody tr th {\n",
       "        vertical-align: top;\n",
       "    }\n",
       "\n",
       "    .dataframe thead th {\n",
       "        text-align: right;\n",
       "    }\n",
       "</style>\n",
       "<table border=\"1\" class=\"dataframe\">\n",
       "  <thead>\n",
       "    <tr style=\"text-align: right;\">\n",
       "      <th></th>\n",
       "      <th>title</th>\n",
       "      <th>tags</th>\n",
       "    </tr>\n",
       "  </thead>\n",
       "  <tbody>\n",
       "    <tr>\n",
       "      <th>0</th>\n",
       "      <td>The Three Stooges</td>\n",
       "      <td>[The, Three, Stooges, The, Three, Stooges, wer...</td>\n",
       "    </tr>\n",
       "    <tr>\n",
       "      <th>1</th>\n",
       "      <td>The General</td>\n",
       "      <td>[The, General, During, America’s, Civil, War,,...</td>\n",
       "    </tr>\n",
       "    <tr>\n",
       "      <th>2</th>\n",
       "      <td>The Best Years of Our Lives</td>\n",
       "      <td>[The, Best, Years, of, Our, Lives, It's, the, ...</td>\n",
       "    </tr>\n",
       "    <tr>\n",
       "      <th>3</th>\n",
       "      <td>His Girl Friday</td>\n",
       "      <td>[His, Girl, Friday, Hildy,, the, journalist, f...</td>\n",
       "    </tr>\n",
       "    <tr>\n",
       "      <th>4</th>\n",
       "      <td>In a Lonely Place</td>\n",
       "      <td>[In, a, Lonely, Place, An, aspiring, actress, ...</td>\n",
       "    </tr>\n",
       "    <tr>\n",
       "      <th>...</th>\n",
       "      <td>...</td>\n",
       "      <td>...</td>\n",
       "    </tr>\n",
       "    <tr>\n",
       "      <th>5845</th>\n",
       "      <td>Fine Wine</td>\n",
       "      <td>[Fine, Wine, A, beautiful, love, story, that, ...</td>\n",
       "    </tr>\n",
       "    <tr>\n",
       "      <th>5846</th>\n",
       "      <td>C/O Kaadhal</td>\n",
       "      <td>[C/O, Kaadhal, A, heart, warming, film, that, ...</td>\n",
       "    </tr>\n",
       "    <tr>\n",
       "      <th>5847</th>\n",
       "      <td>Lokillo</td>\n",
       "      <td>[Lokillo, A, controversial, TV, host, and, com...</td>\n",
       "    </tr>\n",
       "    <tr>\n",
       "      <th>5848</th>\n",
       "      <td>Dad Stop Embarrassing Me - The Afterparty</td>\n",
       "      <td>[Dad, Stop, Embarrassing, Me, -, The, Afterpar...</td>\n",
       "    </tr>\n",
       "    <tr>\n",
       "      <th>5849</th>\n",
       "      <td>Mighty Little Bheem: Kite Festival</td>\n",
       "      <td>[Mighty, Little, Bheem:, Kite, Festival, With,...</td>\n",
       "    </tr>\n",
       "  </tbody>\n",
       "</table>\n",
       "<p>18980 rows × 2 columns</p>\n",
       "</div>"
      ],
      "text/plain": [
       "                                          title  \\\n",
       "0                             The Three Stooges   \n",
       "1                                   The General   \n",
       "2                   The Best Years of Our Lives   \n",
       "3                               His Girl Friday   \n",
       "4                             In a Lonely Place   \n",
       "...                                         ...   \n",
       "5845                                  Fine Wine   \n",
       "5846                                C/O Kaadhal   \n",
       "5847                                    Lokillo   \n",
       "5848  Dad Stop Embarrassing Me - The Afterparty   \n",
       "5849         Mighty Little Bheem: Kite Festival   \n",
       "\n",
       "                                                   tags  \n",
       "0     [The, Three, Stooges, The, Three, Stooges, wer...  \n",
       "1     [The, General, During, America’s, Civil, War,,...  \n",
       "2     [The, Best, Years, of, Our, Lives, It's, the, ...  \n",
       "3     [His, Girl, Friday, Hildy,, the, journalist, f...  \n",
       "4     [In, a, Lonely, Place, An, aspiring, actress, ...  \n",
       "...                                                 ...  \n",
       "5845  [Fine, Wine, A, beautiful, love, story, that, ...  \n",
       "5846  [C/O, Kaadhal, A, heart, warming, film, that, ...  \n",
       "5847  [Lokillo, A, controversial, TV, host, and, com...  \n",
       "5848  [Dad, Stop, Embarrassing, Me, -, The, Afterpar...  \n",
       "5849  [Mighty, Little, Bheem:, Kite, Festival, With,...  \n",
       "\n",
       "[18980 rows x 2 columns]"
      ]
     },
     "execution_count": 42,
     "metadata": {},
     "output_type": "execute_result"
    }
   ],
   "source": [
    "df_new"
   ]
  },
  {
   "cell_type": "code",
   "execution_count": 45,
   "id": "340b4659-8424-429a-8c12-d7e3e8ffed3e",
   "metadata": {},
   "outputs": [],
   "source": [
    "df_new['tags'] = df_new['tags'].apply(lambda x : str(x).split() if type(x) != list else x)"
   ]
  },
  {
   "cell_type": "code",
   "execution_count": 47,
   "id": "1f0b9600-2ad8-4f82-b034-f3e92cbc0818",
   "metadata": {},
   "outputs": [],
   "source": [
    "df_new['tags'] = df_new['tags'].apply(lambda x : ' '.join(x))"
   ]
  },
  {
   "cell_type": "code",
   "execution_count": 48,
   "id": "19a3fa1c-b74b-457c-bcbf-ed54cf16adb7",
   "metadata": {},
   "outputs": [
    {
     "data": {
      "text/html": [
       "<div>\n",
       "<style scoped>\n",
       "    .dataframe tbody tr th:only-of-type {\n",
       "        vertical-align: middle;\n",
       "    }\n",
       "\n",
       "    .dataframe tbody tr th {\n",
       "        vertical-align: top;\n",
       "    }\n",
       "\n",
       "    .dataframe thead th {\n",
       "        text-align: right;\n",
       "    }\n",
       "</style>\n",
       "<table border=\"1\" class=\"dataframe\">\n",
       "  <thead>\n",
       "    <tr style=\"text-align: right;\">\n",
       "      <th></th>\n",
       "      <th>title</th>\n",
       "      <th>tags</th>\n",
       "    </tr>\n",
       "  </thead>\n",
       "  <tbody>\n",
       "    <tr>\n",
       "      <th>0</th>\n",
       "      <td>The Three Stooges</td>\n",
       "      <td>The Three Stooges The Three Stooges were an Am...</td>\n",
       "    </tr>\n",
       "    <tr>\n",
       "      <th>1</th>\n",
       "      <td>The General</td>\n",
       "      <td>The General During America’s Civil War, Union ...</td>\n",
       "    </tr>\n",
       "    <tr>\n",
       "      <th>2</th>\n",
       "      <td>The Best Years of Our Lives</td>\n",
       "      <td>The Best Years of Our Lives It's the hope that...</td>\n",
       "    </tr>\n",
       "    <tr>\n",
       "      <th>3</th>\n",
       "      <td>His Girl Friday</td>\n",
       "      <td>His Girl Friday Hildy, the journalist former w...</td>\n",
       "    </tr>\n",
       "    <tr>\n",
       "      <th>4</th>\n",
       "      <td>In a Lonely Place</td>\n",
       "      <td>In a Lonely Place An aspiring actress begins t...</td>\n",
       "    </tr>\n",
       "    <tr>\n",
       "      <th>...</th>\n",
       "      <td>...</td>\n",
       "      <td>...</td>\n",
       "    </tr>\n",
       "    <tr>\n",
       "      <th>5845</th>\n",
       "      <td>Fine Wine</td>\n",
       "      <td>Fine Wine A beautiful love story that can happ...</td>\n",
       "    </tr>\n",
       "    <tr>\n",
       "      <th>5846</th>\n",
       "      <td>C/O Kaadhal</td>\n",
       "      <td>C/O Kaadhal A heart warming film that explores...</td>\n",
       "    </tr>\n",
       "    <tr>\n",
       "      <th>5847</th>\n",
       "      <td>Lokillo</td>\n",
       "      <td>Lokillo A controversial TV host and comedian w...</td>\n",
       "    </tr>\n",
       "    <tr>\n",
       "      <th>5848</th>\n",
       "      <td>Dad Stop Embarrassing Me - The Afterparty</td>\n",
       "      <td>Dad Stop Embarrassing Me - The Afterparty Jami...</td>\n",
       "    </tr>\n",
       "    <tr>\n",
       "      <th>5849</th>\n",
       "      <td>Mighty Little Bheem: Kite Festival</td>\n",
       "      <td>Mighty Little Bheem: Kite Festival With winter...</td>\n",
       "    </tr>\n",
       "  </tbody>\n",
       "</table>\n",
       "<p>18980 rows × 2 columns</p>\n",
       "</div>"
      ],
      "text/plain": [
       "                                          title  \\\n",
       "0                             The Three Stooges   \n",
       "1                                   The General   \n",
       "2                   The Best Years of Our Lives   \n",
       "3                               His Girl Friday   \n",
       "4                             In a Lonely Place   \n",
       "...                                         ...   \n",
       "5845                                  Fine Wine   \n",
       "5846                                C/O Kaadhal   \n",
       "5847                                    Lokillo   \n",
       "5848  Dad Stop Embarrassing Me - The Afterparty   \n",
       "5849         Mighty Little Bheem: Kite Festival   \n",
       "\n",
       "                                                   tags  \n",
       "0     The Three Stooges The Three Stooges were an Am...  \n",
       "1     The General During America’s Civil War, Union ...  \n",
       "2     The Best Years of Our Lives It's the hope that...  \n",
       "3     His Girl Friday Hildy, the journalist former w...  \n",
       "4     In a Lonely Place An aspiring actress begins t...  \n",
       "...                                                 ...  \n",
       "5845  Fine Wine A beautiful love story that can happ...  \n",
       "5846  C/O Kaadhal A heart warming film that explores...  \n",
       "5847  Lokillo A controversial TV host and comedian w...  \n",
       "5848  Dad Stop Embarrassing Me - The Afterparty Jami...  \n",
       "5849  Mighty Little Bheem: Kite Festival With winter...  \n",
       "\n",
       "[18980 rows x 2 columns]"
      ]
     },
     "execution_count": 48,
     "metadata": {},
     "output_type": "execute_result"
    }
   ],
   "source": [
    "df_new"
   ]
  },
  {
   "cell_type": "code",
   "execution_count": 49,
   "id": "4732b342-fb44-4d39-8ed5-92400ddb08f3",
   "metadata": {},
   "outputs": [],
   "source": [
    "from sklearn.feature_extraction.text import CountVectorizer\n",
    "cv = CountVectorizer(max_features=2000,stop_words='english')"
   ]
  },
  {
   "cell_type": "code",
   "execution_count": 52,
   "id": "8cd14c89-c346-49ee-81bd-0695a7f71738",
   "metadata": {},
   "outputs": [],
   "source": [
    "vector = cv.fit_transform(df_new['tags']).toarray()"
   ]
  },
  {
   "cell_type": "code",
   "execution_count": 53,
   "id": "57f0ba76-482f-4940-853d-b62376a58b55",
   "metadata": {},
   "outputs": [
    {
     "data": {
      "text/plain": [
       "(18980, 2000)"
      ]
     },
     "execution_count": 53,
     "metadata": {},
     "output_type": "execute_result"
    }
   ],
   "source": [
    "vector.shape"
   ]
  },
  {
   "cell_type": "code",
   "execution_count": 54,
   "id": "206f93ff-2789-453f-a257-f4b78f75d4aa",
   "metadata": {},
   "outputs": [],
   "source": [
    "from sklearn.metrics.pairwise import cosine_similarity"
   ]
  },
  {
   "cell_type": "code",
   "execution_count": 55,
   "id": "7ffdc909-e819-4d89-9bf8-a21b0497cec5",
   "metadata": {},
   "outputs": [],
   "source": [
    "similarity  = cosine_similarity(vector)"
   ]
  },
  {
   "cell_type": "code",
   "execution_count": 78,
   "id": "81785f82-ea07-4af1-8291-a94982fbe59e",
   "metadata": {},
   "outputs": [],
   "source": [
    "def recommend(media):\n",
    "    index = df_new[df_new['title'] == media].index[0]\n",
    "    distances = sorted(list(enumerate(similarity[index])),reverse=True,key = lambda x: x[1])\n",
    "    for i in distances[1:6]:\n",
    "        print(df_new.iloc[i[0]]['title'])"
   ]
  },
  {
   "cell_type": "code",
   "execution_count": 79,
   "id": "ded5c77b-07f4-4f6b-b82f-ce657f787d2c",
   "metadata": {},
   "outputs": [
    {
     "name": "stdout",
     "output_type": "stream",
     "text": [
      "Udhayam NH4\n",
      "Shankar Guru\n",
      "Dynamite\n",
      "Silence\n",
      "Anandha Jodhi\n"
     ]
    }
   ],
   "source": [
    "recommend('Malaal')"
   ]
  },
  {
   "cell_type": "code",
   "execution_count": 85,
   "id": "669ddf09-19dd-42ac-b708-3ee82363c189",
   "metadata": {},
   "outputs": [],
   "source": [
    "import nltk\n",
    "from nltk.stem.porter import PorterStemmer\n",
    "ps = PorterStemmer()"
   ]
  },
  {
   "cell_type": "code",
   "execution_count": 86,
   "id": "6ddad6d3-bf31-4f63-b3e1-2b1a16ca999e",
   "metadata": {},
   "outputs": [],
   "source": [
    "def stem(text):\n",
    "    flst = []\n",
    "\n",
    "    for i in text.split():\n",
    "        flst.append(ps.stem(i))\n",
    "    \n",
    "    return \" \".join(flst)"
   ]
  },
  {
   "cell_type": "code",
   "execution_count": 87,
   "id": "709e9d27-97b8-4141-8852-3726c0679427",
   "metadata": {},
   "outputs": [],
   "source": [
    "df_new['tags'] = df_new['tags'].apply(stem)"
   ]
  },
  {
   "cell_type": "code",
   "execution_count": 88,
   "id": "402a6bf0-b533-4266-9be3-4537be5031fd",
   "metadata": {},
   "outputs": [],
   "source": [
    "pickle.dump(similarity, open('similarity.pkl', 'wb'))"
   ]
  },
  {
   "cell_type": "code",
   "execution_count": 89,
   "id": "5c84bac7-4f06-4e9b-b74a-c1953fd5ee2e",
   "metadata": {},
   "outputs": [],
   "source": [
    "pickle.dump(df_new, open('tvshows.pkl', 'wb'))"
   ]
  },
  {
   "cell_type": "code",
   "execution_count": 91,
   "id": "5c7866d4-729c-4236-8f3a-f28cecbfa7cb",
   "metadata": {},
   "outputs": [],
   "source": [
    "pickle.dump(df[['title', 'imdb_id']], open('imdbid.pkl', 'wb'))"
   ]
  },
  {
   "cell_type": "code",
   "execution_count": 5,
   "id": "5241c53b-eb8e-4533-81f0-5b346ca709f6",
   "metadata": {},
   "outputs": [
    {
     "data": {
      "text/html": [
       "<div>\n",
       "<style scoped>\n",
       "    .dataframe tbody tr th:only-of-type {\n",
       "        vertical-align: middle;\n",
       "    }\n",
       "\n",
       "    .dataframe tbody tr th {\n",
       "        vertical-align: top;\n",
       "    }\n",
       "\n",
       "    .dataframe thead th {\n",
       "        text-align: right;\n",
       "    }\n",
       "</style>\n",
       "<table border=\"1\" class=\"dataframe\">\n",
       "  <thead>\n",
       "    <tr style=\"text-align: right;\">\n",
       "      <th></th>\n",
       "      <th>id</th>\n",
       "      <th>title</th>\n",
       "      <th>type</th>\n",
       "      <th>description</th>\n",
       "      <th>release_year</th>\n",
       "      <th>age_certification</th>\n",
       "      <th>runtime</th>\n",
       "      <th>genres</th>\n",
       "      <th>production_countries</th>\n",
       "      <th>seasons</th>\n",
       "      <th>imdb_id</th>\n",
       "      <th>imdb_score</th>\n",
       "      <th>imdb_votes</th>\n",
       "      <th>tmdb_popularity</th>\n",
       "      <th>tmdb_score</th>\n",
       "    </tr>\n",
       "  </thead>\n",
       "  <tbody>\n",
       "    <tr>\n",
       "      <th>0</th>\n",
       "      <td>ts20945</td>\n",
       "      <td>The Three Stooges</td>\n",
       "      <td>SHOW</td>\n",
       "      <td>The Three Stooges were an American vaudeville ...</td>\n",
       "      <td>1934</td>\n",
       "      <td>TV-PG</td>\n",
       "      <td>19</td>\n",
       "      <td>['comedy', 'family', 'animation', 'action', 'f...</td>\n",
       "      <td>['US']</td>\n",
       "      <td>26.0</td>\n",
       "      <td>tt0850645</td>\n",
       "      <td>8.6</td>\n",
       "      <td>1092.0</td>\n",
       "      <td>15.424</td>\n",
       "      <td>7.6</td>\n",
       "    </tr>\n",
       "    <tr>\n",
       "      <th>1</th>\n",
       "      <td>tm19248</td>\n",
       "      <td>The General</td>\n",
       "      <td>MOVIE</td>\n",
       "      <td>During America’s Civil War, Union spies steal ...</td>\n",
       "      <td>1926</td>\n",
       "      <td>NaN</td>\n",
       "      <td>78</td>\n",
       "      <td>['action', 'drama', 'war', 'western', 'comedy'...</td>\n",
       "      <td>['US']</td>\n",
       "      <td>NaN</td>\n",
       "      <td>tt0017925</td>\n",
       "      <td>8.2</td>\n",
       "      <td>89766.0</td>\n",
       "      <td>8.647</td>\n",
       "      <td>8.0</td>\n",
       "    </tr>\n",
       "    <tr>\n",
       "      <th>2</th>\n",
       "      <td>tm82253</td>\n",
       "      <td>The Best Years of Our Lives</td>\n",
       "      <td>MOVIE</td>\n",
       "      <td>It's the hope that sustains the spirit of ever...</td>\n",
       "      <td>1946</td>\n",
       "      <td>NaN</td>\n",
       "      <td>171</td>\n",
       "      <td>['romance', 'war', 'drama']</td>\n",
       "      <td>['US']</td>\n",
       "      <td>NaN</td>\n",
       "      <td>tt0036868</td>\n",
       "      <td>8.1</td>\n",
       "      <td>63026.0</td>\n",
       "      <td>8.435</td>\n",
       "      <td>7.8</td>\n",
       "    </tr>\n",
       "    <tr>\n",
       "      <th>3</th>\n",
       "      <td>tm83884</td>\n",
       "      <td>His Girl Friday</td>\n",
       "      <td>MOVIE</td>\n",
       "      <td>Hildy, the journalist former wife of newspaper...</td>\n",
       "      <td>1940</td>\n",
       "      <td>NaN</td>\n",
       "      <td>92</td>\n",
       "      <td>['comedy', 'drama', 'romance']</td>\n",
       "      <td>['US']</td>\n",
       "      <td>NaN</td>\n",
       "      <td>tt0032599</td>\n",
       "      <td>7.8</td>\n",
       "      <td>57835.0</td>\n",
       "      <td>11.270</td>\n",
       "      <td>7.4</td>\n",
       "    </tr>\n",
       "    <tr>\n",
       "      <th>4</th>\n",
       "      <td>tm56584</td>\n",
       "      <td>In a Lonely Place</td>\n",
       "      <td>MOVIE</td>\n",
       "      <td>An aspiring actress begins to suspect that her...</td>\n",
       "      <td>1950</td>\n",
       "      <td>NaN</td>\n",
       "      <td>94</td>\n",
       "      <td>['thriller', 'drama', 'romance']</td>\n",
       "      <td>['US']</td>\n",
       "      <td>NaN</td>\n",
       "      <td>tt0042593</td>\n",
       "      <td>7.9</td>\n",
       "      <td>30924.0</td>\n",
       "      <td>8.273</td>\n",
       "      <td>7.6</td>\n",
       "    </tr>\n",
       "    <tr>\n",
       "      <th>...</th>\n",
       "      <td>...</td>\n",
       "      <td>...</td>\n",
       "      <td>...</td>\n",
       "      <td>...</td>\n",
       "      <td>...</td>\n",
       "      <td>...</td>\n",
       "      <td>...</td>\n",
       "      <td>...</td>\n",
       "      <td>...</td>\n",
       "      <td>...</td>\n",
       "      <td>...</td>\n",
       "      <td>...</td>\n",
       "      <td>...</td>\n",
       "      <td>...</td>\n",
       "      <td>...</td>\n",
       "    </tr>\n",
       "    <tr>\n",
       "      <th>5845</th>\n",
       "      <td>tm1014599</td>\n",
       "      <td>Fine Wine</td>\n",
       "      <td>MOVIE</td>\n",
       "      <td>A beautiful love story that can happen between...</td>\n",
       "      <td>2021</td>\n",
       "      <td>NaN</td>\n",
       "      <td>100</td>\n",
       "      <td>['romance', 'drama']</td>\n",
       "      <td>['NG']</td>\n",
       "      <td>NaN</td>\n",
       "      <td>tt13857480</td>\n",
       "      <td>6.8</td>\n",
       "      <td>45.0</td>\n",
       "      <td>1.466</td>\n",
       "      <td>NaN</td>\n",
       "    </tr>\n",
       "    <tr>\n",
       "      <th>5846</th>\n",
       "      <td>tm898842</td>\n",
       "      <td>C/O Kaadhal</td>\n",
       "      <td>MOVIE</td>\n",
       "      <td>A heart warming film that explores the concept...</td>\n",
       "      <td>2021</td>\n",
       "      <td>NaN</td>\n",
       "      <td>134</td>\n",
       "      <td>['drama']</td>\n",
       "      <td>[]</td>\n",
       "      <td>NaN</td>\n",
       "      <td>tt11803618</td>\n",
       "      <td>7.7</td>\n",
       "      <td>348.0</td>\n",
       "      <td>NaN</td>\n",
       "      <td>NaN</td>\n",
       "    </tr>\n",
       "    <tr>\n",
       "      <th>5847</th>\n",
       "      <td>tm1059008</td>\n",
       "      <td>Lokillo</td>\n",
       "      <td>MOVIE</td>\n",
       "      <td>A controversial TV host and comedian who has b...</td>\n",
       "      <td>2021</td>\n",
       "      <td>NaN</td>\n",
       "      <td>90</td>\n",
       "      <td>['comedy']</td>\n",
       "      <td>['CO']</td>\n",
       "      <td>NaN</td>\n",
       "      <td>tt14585902</td>\n",
       "      <td>3.8</td>\n",
       "      <td>68.0</td>\n",
       "      <td>26.005</td>\n",
       "      <td>6.3</td>\n",
       "    </tr>\n",
       "    <tr>\n",
       "      <th>5848</th>\n",
       "      <td>tm1035612</td>\n",
       "      <td>Dad Stop Embarrassing Me - The Afterparty</td>\n",
       "      <td>MOVIE</td>\n",
       "      <td>Jamie Foxx, David Alan Grier and more from the...</td>\n",
       "      <td>2021</td>\n",
       "      <td>PG-13</td>\n",
       "      <td>37</td>\n",
       "      <td>[]</td>\n",
       "      <td>['US']</td>\n",
       "      <td>NaN</td>\n",
       "      <td>NaN</td>\n",
       "      <td>NaN</td>\n",
       "      <td>NaN</td>\n",
       "      <td>1.296</td>\n",
       "      <td>10.0</td>\n",
       "    </tr>\n",
       "    <tr>\n",
       "      <th>5849</th>\n",
       "      <td>ts271048</td>\n",
       "      <td>Mighty Little Bheem: Kite Festival</td>\n",
       "      <td>SHOW</td>\n",
       "      <td>With winter behind them, Bheem and his townspe...</td>\n",
       "      <td>2021</td>\n",
       "      <td>NaN</td>\n",
       "      <td>7</td>\n",
       "      <td>['family', 'animation', 'comedy']</td>\n",
       "      <td>[]</td>\n",
       "      <td>1.0</td>\n",
       "      <td>tt13711094</td>\n",
       "      <td>7.8</td>\n",
       "      <td>18.0</td>\n",
       "      <td>2.289</td>\n",
       "      <td>10.0</td>\n",
       "    </tr>\n",
       "  </tbody>\n",
       "</table>\n",
       "<p>19015 rows × 15 columns</p>\n",
       "</div>"
      ],
      "text/plain": [
       "             id                                      title   type  \\\n",
       "0       ts20945                          The Three Stooges   SHOW   \n",
       "1       tm19248                                The General  MOVIE   \n",
       "2       tm82253                The Best Years of Our Lives  MOVIE   \n",
       "3       tm83884                            His Girl Friday  MOVIE   \n",
       "4       tm56584                          In a Lonely Place  MOVIE   \n",
       "...         ...                                        ...    ...   \n",
       "5845  tm1014599                                  Fine Wine  MOVIE   \n",
       "5846   tm898842                                C/O Kaadhal  MOVIE   \n",
       "5847  tm1059008                                    Lokillo  MOVIE   \n",
       "5848  tm1035612  Dad Stop Embarrassing Me - The Afterparty  MOVIE   \n",
       "5849   ts271048         Mighty Little Bheem: Kite Festival   SHOW   \n",
       "\n",
       "                                            description  release_year  \\\n",
       "0     The Three Stooges were an American vaudeville ...          1934   \n",
       "1     During America’s Civil War, Union spies steal ...          1926   \n",
       "2     It's the hope that sustains the spirit of ever...          1946   \n",
       "3     Hildy, the journalist former wife of newspaper...          1940   \n",
       "4     An aspiring actress begins to suspect that her...          1950   \n",
       "...                                                 ...           ...   \n",
       "5845  A beautiful love story that can happen between...          2021   \n",
       "5846  A heart warming film that explores the concept...          2021   \n",
       "5847  A controversial TV host and comedian who has b...          2021   \n",
       "5848  Jamie Foxx, David Alan Grier and more from the...          2021   \n",
       "5849  With winter behind them, Bheem and his townspe...          2021   \n",
       "\n",
       "     age_certification  runtime  \\\n",
       "0                TV-PG       19   \n",
       "1                  NaN       78   \n",
       "2                  NaN      171   \n",
       "3                  NaN       92   \n",
       "4                  NaN       94   \n",
       "...                ...      ...   \n",
       "5845               NaN      100   \n",
       "5846               NaN      134   \n",
       "5847               NaN       90   \n",
       "5848             PG-13       37   \n",
       "5849               NaN        7   \n",
       "\n",
       "                                                 genres production_countries  \\\n",
       "0     ['comedy', 'family', 'animation', 'action', 'f...               ['US']   \n",
       "1     ['action', 'drama', 'war', 'western', 'comedy'...               ['US']   \n",
       "2                           ['romance', 'war', 'drama']               ['US']   \n",
       "3                        ['comedy', 'drama', 'romance']               ['US']   \n",
       "4                      ['thriller', 'drama', 'romance']               ['US']   \n",
       "...                                                 ...                  ...   \n",
       "5845                               ['romance', 'drama']               ['NG']   \n",
       "5846                                          ['drama']                   []   \n",
       "5847                                         ['comedy']               ['CO']   \n",
       "5848                                                 []               ['US']   \n",
       "5849                  ['family', 'animation', 'comedy']                   []   \n",
       "\n",
       "      seasons     imdb_id  imdb_score  imdb_votes  tmdb_popularity  tmdb_score  \n",
       "0        26.0   tt0850645         8.6      1092.0           15.424         7.6  \n",
       "1         NaN   tt0017925         8.2     89766.0            8.647         8.0  \n",
       "2         NaN   tt0036868         8.1     63026.0            8.435         7.8  \n",
       "3         NaN   tt0032599         7.8     57835.0           11.270         7.4  \n",
       "4         NaN   tt0042593         7.9     30924.0            8.273         7.6  \n",
       "...       ...         ...         ...         ...              ...         ...  \n",
       "5845      NaN  tt13857480         6.8        45.0            1.466         NaN  \n",
       "5846      NaN  tt11803618         7.7       348.0              NaN         NaN  \n",
       "5847      NaN  tt14585902         3.8        68.0           26.005         6.3  \n",
       "5848      NaN         NaN         NaN         NaN            1.296        10.0  \n",
       "5849      1.0  tt13711094         7.8        18.0            2.289        10.0  \n",
       "\n",
       "[19015 rows x 15 columns]"
      ]
     },
     "execution_count": 5,
     "metadata": {},
     "output_type": "execute_result"
    }
   ],
   "source": [
    "df"
   ]
  },
  {
   "cell_type": "code",
   "execution_count": 9,
   "id": "7f0b5f6b-9371-485c-87d6-199db73004f2",
   "metadata": {},
   "outputs": [],
   "source": [
    "id = df[df['title'] == 'The Three Stooges']['imdb_id'].str.split()"
   ]
  },
  {
   "cell_type": "code",
   "execution_count": 10,
   "id": "7c5ce7e1-533d-4a3f-be5e-e896cbd2a244",
   "metadata": {},
   "outputs": [
    {
     "data": {
      "text/plain": [
       "0       [tt0850645]\n",
       "2406    [tt0214698]\n",
       "Name: imdb_id, dtype: object"
      ]
     },
     "execution_count": 10,
     "metadata": {},
     "output_type": "execute_result"
    }
   ],
   "source": [
    "id"
   ]
  },
  {
   "cell_type": "code",
   "execution_count": null,
   "id": "2f85b2f9-c31d-467b-8795-fce43f77cb35",
   "metadata": {},
   "outputs": [],
   "source": []
  }
 ],
 "metadata": {
  "kernelspec": {
   "display_name": "Python 3 (ipykernel)",
   "language": "python",
   "name": "python3"
  },
  "language_info": {
   "codemirror_mode": {
    "name": "ipython",
    "version": 3
   },
   "file_extension": ".py",
   "mimetype": "text/x-python",
   "name": "python",
   "nbconvert_exporter": "python",
   "pygments_lexer": "ipython3",
   "version": "3.9.13"
  }
 },
 "nbformat": 4,
 "nbformat_minor": 5
}
